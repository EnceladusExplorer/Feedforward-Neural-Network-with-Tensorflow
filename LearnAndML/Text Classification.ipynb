{
 "cells": [
  {
   "cell_type": "code",
   "execution_count": 1,
   "metadata": {},
   "outputs": [],
   "source": [
    "import tensorflow as tf\n",
    "from tensorflow import keras\n",
    "\n",
    "import numpy as np\n",
    "import matplotlib.pyplot as plt"
   ]
  },
  {
   "cell_type": "markdown",
   "metadata": {},
   "source": [
    "## Download and load dataset"
   ]
  },
  {
   "cell_type": "code",
   "execution_count": 2,
   "metadata": {},
   "outputs": [],
   "source": [
    "imdb = keras.datasets.imdb\n",
    "(train_data, train_labels), (test_data, test_labels) = imdb.load_data(num_words=10000)"
   ]
  },
  {
   "cell_type": "markdown",
   "metadata": {},
   "source": [
    "## Explore dataset"
   ]
  },
  {
   "cell_type": "code",
   "execution_count": 3,
   "metadata": {},
   "outputs": [
    {
     "name": "stdout",
     "output_type": "stream",
     "text": [
      "Testing entries: 25000, labels: 25000\n"
     ]
    }
   ],
   "source": [
    "print 'Testing entries: {}, labels: {}'.format(len(train_data), len(train_labels))"
   ]
  },
  {
   "cell_type": "code",
   "execution_count": 4,
   "metadata": {},
   "outputs": [
    {
     "name": "stdout",
     "output_type": "stream",
     "text": [
      "[1, 14, 22, 16, 43, 530, 973, 1622, 1385, 65, 458, 4468, 66, 3941, 4, 173, 36, 256, 5, 25, 100, 43, 838, 112, 50, 670, 2, 9, 35, 480, 284, 5, 150, 4, 172, 112, 167, 2, 336, 385, 39, 4, 172, 4536, 1111, 17, 546, 38, 13, 447, 4, 192, 50, 16, 6, 147, 2025, 19, 14, 22, 4, 1920, 4613, 469, 4, 22, 71, 87, 12, 16, 43, 530, 38, 76, 15, 13, 1247, 4, 22, 17, 515, 17, 12, 16, 626, 18, 2, 5, 62, 386, 12, 8, 316, 8, 106, 5, 4, 2223, 5244, 16, 480, 66, 3785, 33, 4, 130, 12, 16, 38, 619, 5, 25, 124, 51, 36, 135, 48, 25, 1415, 33, 6, 22, 12, 215, 28, 77, 52, 5, 14, 407, 16, 82, 2, 8, 4, 107, 117, 5952, 15, 256, 4, 2, 7, 3766, 5, 723, 36, 71, 43, 530, 476, 26, 400, 317, 46, 7, 4, 2, 1029, 13, 104, 88, 4, 381, 15, 297, 98, 32, 2071, 56, 26, 141, 6, 194, 7486, 18, 4, 226, 22, 21, 134, 476, 26, 480, 5, 144, 30, 5535, 18, 51, 36, 28, 224, 92, 25, 104, 4, 226, 65, 16, 38, 1334, 88, 12, 16, 283, 5, 16, 4472, 113, 103, 32, 15, 16, 5345, 19, 178, 32]\n"
     ]
    }
   ],
   "source": [
    "print train_data[0]"
   ]
  },
  {
   "cell_type": "code",
   "execution_count": 5,
   "metadata": {},
   "outputs": [
    {
     "data": {
      "text/plain": [
       "(218, 189)"
      ]
     },
     "execution_count": 5,
     "metadata": {},
     "output_type": "execute_result"
    }
   ],
   "source": [
    "# demonstrate differing lenghts of data entires\n",
    "len(train_data[0]), len(train_data[1])"
   ]
  },
  {
   "cell_type": "markdown",
   "metadata": {},
   "source": [
    "## Intergers to words"
   ]
  },
  {
   "cell_type": "code",
   "execution_count": 6,
   "metadata": {},
   "outputs": [],
   "source": [
    "# Word dictionary\n",
    "word_index = imdb.get_word_index()\n",
    "\n",
    "# The first indices are reversed (num:word -> word:num)\n",
    "word_index = {k: (v+3) for k,v in word_index.items()}\n",
    "word_index[\"<PAD>\"] = 0\n",
    "word_index[\"<START>\"] = 1\n",
    "word_index[\"<UNK>\"] = 2 # unknown\n",
    "word_index[\"<UNUSED\"] = 3\n",
    "\n",
    "reverse_word_index = dict([(value, key) for (key, value) in word_index.items()])"
   ]
  },
  {
   "cell_type": "code",
   "execution_count": 7,
   "metadata": {},
   "outputs": [],
   "source": [
    "def decode_review(text):\n",
    "    return ' '.join([reverse_word_index.get(i, '?') for i in text])"
   ]
  },
  {
   "cell_type": "code",
   "execution_count": 8,
   "metadata": {},
   "outputs": [
    {
     "data": {
      "text/plain": [
       "u\"<START> this film was just brilliant casting location scenery story direction everyone's really suited the part they played and you could just imagine being there robert <UNK> is an amazing actor and now the same being director <UNK> father came from the same scottish island as myself so i loved the fact there was a real connection with this film the witty remarks throughout the film were great it was just brilliant so much that i bought the film as soon as it was released for <UNK> and would recommend it to everyone to watch and the fly fishing was amazing really cried at the end it was so sad and you know what they say if you cry at a film it must have been good and this definitely was also <UNK> to the two little boy's that played the <UNK> of norman and paul they were just brilliant children are often left out of the <UNK> list i think because the stars that play them all grown up are such a big profile for the whole film but these children are amazing and should be praised for what they have done don't you think the whole story was so lovely because it was true and was someone's life after all that was shared with us all\""
      ]
     },
     "execution_count": 8,
     "metadata": {},
     "output_type": "execute_result"
    }
   ],
   "source": [
    "# Testing decoding function\n",
    "decode_review(train_data[0])"
   ]
  },
  {
   "cell_type": "markdown",
   "metadata": {},
   "source": [
    "## Data prep"
   ]
  },
  {
   "cell_type": "code",
   "execution_count": 9,
   "metadata": {},
   "outputs": [],
   "source": [
    "# Add padding to the data\n",
    "train_data = keras.preprocessing.sequence.pad_sequences(train_data,\n",
    "                                                       value=word_index[\"<PAD>\"],\n",
    "                                                       padding='post',\n",
    "                                                       maxlen=256\n",
    "                                                      )\n",
    "\n",
    "test_data = keras.preprocessing.sequence.pad_sequences(test_data,\n",
    "                                                       value=word_index[\"<PAD>\"],\n",
    "                                                       padding='post',\n",
    "                                                       maxlen=256\n",
    "                                                      )"
   ]
  },
  {
   "cell_type": "code",
   "execution_count": 10,
   "metadata": {},
   "outputs": [
    {
     "data": {
      "text/plain": [
       "(256, 256)"
      ]
     },
     "execution_count": 10,
     "metadata": {},
     "output_type": "execute_result"
    }
   ],
   "source": [
    "len(train_data[0]), len(train_data[1])"
   ]
  },
  {
   "cell_type": "code",
   "execution_count": 11,
   "metadata": {},
   "outputs": [
    {
     "name": "stdout",
     "output_type": "stream",
     "text": [
      "[   1   14   22   16   43  530  973 1622 1385   65  458 4468   66 3941\n",
      "    4  173   36  256    5   25  100   43  838  112   50  670    2    9\n",
      "   35  480  284    5  150    4  172  112  167    2  336  385   39    4\n",
      "  172 4536 1111   17  546   38   13  447    4  192   50   16    6  147\n",
      " 2025   19   14   22    4 1920 4613  469    4   22   71   87   12   16\n",
      "   43  530   38   76   15   13 1247    4   22   17  515   17   12   16\n",
      "  626   18    2    5   62  386   12    8  316    8  106    5    4 2223\n",
      " 5244   16  480   66 3785   33    4  130   12   16   38  619    5   25\n",
      "  124   51   36  135   48   25 1415   33    6   22   12  215   28   77\n",
      "   52    5   14  407   16   82    2    8    4  107  117 5952   15  256\n",
      "    4    2    7 3766    5  723   36   71   43  530  476   26  400  317\n",
      "   46    7    4    2 1029   13  104   88    4  381   15  297   98   32\n",
      " 2071   56   26  141    6  194 7486   18    4  226   22   21  134  476\n",
      "   26  480    5  144   30 5535   18   51   36   28  224   92   25  104\n",
      "    4  226   65   16   38 1334   88   12   16  283    5   16 4472  113\n",
      "  103   32   15   16 5345   19  178   32    0    0    0    0    0    0\n",
      "    0    0    0    0    0    0    0    0    0    0    0    0    0    0\n",
      "    0    0    0    0    0    0    0    0    0    0    0    0    0    0\n",
      "    0    0    0    0]\n"
     ]
    }
   ],
   "source": [
    "print train_data[0]"
   ]
  },
  {
   "cell_type": "markdown",
   "metadata": {},
   "source": [
    "## Build model"
   ]
  },
  {
   "cell_type": "code",
   "execution_count": 12,
   "metadata": {},
   "outputs": [
    {
     "name": "stdout",
     "output_type": "stream",
     "text": [
      "_________________________________________________________________\n",
      "Layer (type)                 Output Shape              Param #   \n",
      "=================================================================\n",
      "embedding (Embedding)        (None, None, 16)          160000    \n",
      "_________________________________________________________________\n",
      "global_average_pooling1d (Gl (None, 16)                0         \n",
      "_________________________________________________________________\n",
      "dense (Dense)                (None, 16)                272       \n",
      "_________________________________________________________________\n",
      "dense_1 (Dense)              (None, 1)                 17        \n",
      "=================================================================\n",
      "Total params: 160,289\n",
      "Trainable params: 160,289\n",
      "Non-trainable params: 0\n",
      "_________________________________________________________________\n"
     ]
    }
   ],
   "source": [
    "vocab_size = 10000\n",
    "\n",
    "model = keras.Sequential()\n",
    "model.add(keras.layers.Embedding(vocab_size, 16))\n",
    "model.add(keras.layers.GlobalAveragePooling1D())\n",
    "model.add(keras.layers.Dense(16, activation=tf.nn.relu))\n",
    "model.add(keras.layers.Dense(1, activation=tf.nn.sigmoid))\n",
    "\n",
    "model.summary()"
   ]
  },
  {
   "cell_type": "code",
   "execution_count": 13,
   "metadata": {},
   "outputs": [],
   "source": [
    "model.compile(optimizer=tf.train.AdamOptimizer(),\n",
    "              loss='binary_crossentropy',\n",
    "              metrics=['accuracy']\n",
    "             )"
   ]
  },
  {
   "cell_type": "markdown",
   "metadata": {},
   "source": [
    "## Creating crossvalidation dataset"
   ]
  },
  {
   "cell_type": "code",
   "execution_count": 14,
   "metadata": {},
   "outputs": [],
   "source": [
    "x_val = train_data[:10000]\n",
    "partial_x_train = train_data[10000:]\n",
    "\n",
    "y_val = train_labels[:10000]\n",
    "partial_y_train = train_labels[10000:]"
   ]
  },
  {
   "cell_type": "markdown",
   "metadata": {},
   "source": [
    "## Train  model"
   ]
  },
  {
   "cell_type": "code",
   "execution_count": 15,
   "metadata": {},
   "outputs": [
    {
     "name": "stdout",
     "output_type": "stream",
     "text": [
      "Train on 15000 samples, validate on 10000 samples\n",
      "Epoch 1/80\n",
      "15000/15000 [==============================] - 1s 74us/step - loss: 0.6934 - acc: 0.5089 - val_loss: 0.6912 - val_acc: 0.5172\n",
      "Epoch 2/80\n",
      "15000/15000 [==============================] - 1s 58us/step - loss: 0.6895 - acc: 0.5344 - val_loss: 0.6885 - val_acc: 0.5642\n",
      "Epoch 3/80\n",
      "15000/15000 [==============================] - 1s 56us/step - loss: 0.6865 - acc: 0.5891 - val_loss: 0.6860 - val_acc: 0.5717\n",
      "Epoch 4/80\n",
      "15000/15000 [==============================] - 1s 58us/step - loss: 0.6830 - acc: 0.6375 - val_loss: 0.6828 - val_acc: 0.5679\n",
      "Epoch 5/80\n",
      "15000/15000 [==============================] - 1s 55us/step - loss: 0.6784 - acc: 0.6479 - val_loss: 0.6772 - val_acc: 0.6864\n",
      "Epoch 6/80\n",
      "15000/15000 [==============================] - 1s 56us/step - loss: 0.6721 - acc: 0.6995 - val_loss: 0.6706 - val_acc: 0.7070\n",
      "Epoch 7/80\n",
      "15000/15000 [==============================] - 1s 59us/step - loss: 0.6635 - acc: 0.7266 - val_loss: 0.6621 - val_acc: 0.7050\n",
      "Epoch 8/80\n",
      "15000/15000 [==============================] - 1s 57us/step - loss: 0.6521 - acc: 0.7390 - val_loss: 0.6505 - val_acc: 0.7184\n",
      "Epoch 9/80\n",
      "15000/15000 [==============================] - 1s 58us/step - loss: 0.6375 - acc: 0.7508 - val_loss: 0.6349 - val_acc: 0.7414\n",
      "Epoch 10/80\n",
      "15000/15000 [==============================] - 1s 55us/step - loss: 0.6183 - acc: 0.7711 - val_loss: 0.6152 - val_acc: 0.7542\n",
      "Epoch 11/80\n",
      "15000/15000 [==============================] - 1s 53us/step - loss: 0.5951 - acc: 0.7721 - val_loss: 0.5939 - val_acc: 0.7622\n",
      "Epoch 12/80\n",
      "15000/15000 [==============================] - 1s 53us/step - loss: 0.5681 - acc: 0.7917 - val_loss: 0.5665 - val_acc: 0.7810\n",
      "Epoch 13/80\n",
      "15000/15000 [==============================] - 1s 52us/step - loss: 0.5372 - acc: 0.8043 - val_loss: 0.5377 - val_acc: 0.7927\n",
      "Epoch 14/80\n",
      "15000/15000 [==============================] - 1s 53us/step - loss: 0.5055 - acc: 0.8187 - val_loss: 0.5101 - val_acc: 0.8046\n",
      "Epoch 15/80\n",
      "15000/15000 [==============================] - 1s 54us/step - loss: 0.4752 - acc: 0.8314 - val_loss: 0.4830 - val_acc: 0.8135\n",
      "Epoch 16/80\n",
      "15000/15000 [==============================] - 1s 55us/step - loss: 0.4469 - acc: 0.8404 - val_loss: 0.4584 - val_acc: 0.8246\n",
      "Epoch 17/80\n",
      "15000/15000 [==============================] - 1s 56us/step - loss: 0.4196 - acc: 0.8535 - val_loss: 0.4364 - val_acc: 0.8331\n",
      "Epoch 18/80\n",
      "15000/15000 [==============================] - 1s 58us/step - loss: 0.3955 - acc: 0.8638 - val_loss: 0.4163 - val_acc: 0.8403\n",
      "Epoch 19/80\n",
      "15000/15000 [==============================] - 1s 54us/step - loss: 0.3740 - acc: 0.8718 - val_loss: 0.3989 - val_acc: 0.8463\n",
      "Epoch 20/80\n",
      "15000/15000 [==============================] - 1s 56us/step - loss: 0.3548 - acc: 0.8787 - val_loss: 0.3839 - val_acc: 0.8523\n",
      "Epoch 21/80\n",
      "15000/15000 [==============================] - 1s 57us/step - loss: 0.3376 - acc: 0.8836 - val_loss: 0.3710 - val_acc: 0.8576\n",
      "Epoch 22/80\n",
      "15000/15000 [==============================] - 1s 60us/step - loss: 0.3224 - acc: 0.8887 - val_loss: 0.3599 - val_acc: 0.8624\n",
      "Epoch 23/80\n",
      "15000/15000 [==============================] - 1s 53us/step - loss: 0.3091 - acc: 0.8917 - val_loss: 0.3507 - val_acc: 0.8634\n",
      "Epoch 24/80\n",
      "15000/15000 [==============================] - 1s 55us/step - loss: 0.2965 - acc: 0.8947 - val_loss: 0.3420 - val_acc: 0.8678\n",
      "Epoch 25/80\n",
      "15000/15000 [==============================] - 1s 53us/step - loss: 0.2854 - acc: 0.8995 - val_loss: 0.3348 - val_acc: 0.8700\n",
      "Epoch 26/80\n",
      "15000/15000 [==============================] - 1s 54us/step - loss: 0.2752 - acc: 0.9025 - val_loss: 0.3289 - val_acc: 0.8723\n",
      "Epoch 27/80\n",
      "15000/15000 [==============================] - 1s 55us/step - loss: 0.2662 - acc: 0.9044 - val_loss: 0.3231 - val_acc: 0.8732\n",
      "Epoch 28/80\n",
      "15000/15000 [==============================] - 1s 59us/step - loss: 0.2570 - acc: 0.9083 - val_loss: 0.3179 - val_acc: 0.8761\n",
      "Epoch 29/80\n",
      "15000/15000 [==============================] - 1s 56us/step - loss: 0.2491 - acc: 0.9118 - val_loss: 0.3140 - val_acc: 0.8767\n",
      "Epoch 30/80\n",
      "15000/15000 [==============================] - 1s 56us/step - loss: 0.2424 - acc: 0.9123 - val_loss: 0.3099 - val_acc: 0.8769\n",
      "Epoch 31/80\n",
      "15000/15000 [==============================] - 1s 55us/step - loss: 0.2344 - acc: 0.9170 - val_loss: 0.3069 - val_acc: 0.8794\n",
      "Epoch 32/80\n",
      "15000/15000 [==============================] - 1s 58us/step - loss: 0.2283 - acc: 0.9189 - val_loss: 0.3038 - val_acc: 0.8796\n",
      "Epoch 33/80\n",
      "15000/15000 [==============================] - 1s 54us/step - loss: 0.2213 - acc: 0.9209 - val_loss: 0.3012 - val_acc: 0.8806\n",
      "Epoch 34/80\n",
      "15000/15000 [==============================] - 1s 54us/step - loss: 0.2155 - acc: 0.9236 - val_loss: 0.2992 - val_acc: 0.8807\n",
      "Epoch 35/80\n",
      "15000/15000 [==============================] - 1s 54us/step - loss: 0.2103 - acc: 0.9247 - val_loss: 0.2969 - val_acc: 0.8822\n",
      "Epoch 36/80\n",
      "15000/15000 [==============================] - 1s 54us/step - loss: 0.2041 - acc: 0.9285 - val_loss: 0.2952 - val_acc: 0.8818\n",
      "Epoch 37/80\n",
      "15000/15000 [==============================] - 1s 56us/step - loss: 0.1990 - acc: 0.9297 - val_loss: 0.2938 - val_acc: 0.8825\n",
      "Epoch 38/80\n",
      "15000/15000 [==============================] - 1s 58us/step - loss: 0.1941 - acc: 0.9311 - val_loss: 0.2921 - val_acc: 0.8832\n",
      "Epoch 39/80\n",
      "15000/15000 [==============================] - 1s 56us/step - loss: 0.1889 - acc: 0.9349 - val_loss: 0.2910 - val_acc: 0.8839\n",
      "Epoch 40/80\n",
      "15000/15000 [==============================] - 1s 60us/step - loss: 0.1842 - acc: 0.9367 - val_loss: 0.2899 - val_acc: 0.8848\n",
      "Epoch 41/80\n",
      "15000/15000 [==============================] - 1s 61us/step - loss: 0.1800 - acc: 0.9380 - val_loss: 0.2898 - val_acc: 0.8844\n",
      "Epoch 42/80\n",
      "15000/15000 [==============================] - 1s 57us/step - loss: 0.1753 - acc: 0.9406 - val_loss: 0.2885 - val_acc: 0.8848\n",
      "Epoch 43/80\n",
      "15000/15000 [==============================] - 1s 54us/step - loss: 0.1712 - acc: 0.9421 - val_loss: 0.2881 - val_acc: 0.8844\n",
      "Epoch 44/80\n",
      "15000/15000 [==============================] - 1s 58us/step - loss: 0.1670 - acc: 0.9441 - val_loss: 0.2880 - val_acc: 0.8846\n",
      "Epoch 45/80\n",
      "15000/15000 [==============================] - 1s 54us/step - loss: 0.1632 - acc: 0.9462 - val_loss: 0.2877 - val_acc: 0.8851\n",
      "Epoch 46/80\n",
      "15000/15000 [==============================] - 1s 59us/step - loss: 0.1596 - acc: 0.9487 - val_loss: 0.2877 - val_acc: 0.8853\n",
      "Epoch 47/80\n",
      "15000/15000 [==============================] - 1s 55us/step - loss: 0.1554 - acc: 0.9495 - val_loss: 0.2878 - val_acc: 0.8860\n",
      "Epoch 48/80\n",
      "15000/15000 [==============================] - 1s 60us/step - loss: 0.1527 - acc: 0.9507 - val_loss: 0.2896 - val_acc: 0.8828\n",
      "Epoch 49/80\n",
      "15000/15000 [==============================] - 1s 59us/step - loss: 0.1487 - acc: 0.9523 - val_loss: 0.2889 - val_acc: 0.8860\n",
      "Epoch 50/80\n",
      "15000/15000 [==============================] - 1s 55us/step - loss: 0.1454 - acc: 0.9541 - val_loss: 0.2884 - val_acc: 0.8872\n",
      "Epoch 51/80\n",
      "15000/15000 [==============================] - 1s 54us/step - loss: 0.1420 - acc: 0.9561 - val_loss: 0.2890 - val_acc: 0.8868\n",
      "Epoch 52/80\n",
      "15000/15000 [==============================] - 1s 55us/step - loss: 0.1387 - acc: 0.9567 - val_loss: 0.2896 - val_acc: 0.8880\n",
      "Epoch 53/80\n",
      "15000/15000 [==============================] - 1s 55us/step - loss: 0.1355 - acc: 0.9587 - val_loss: 0.2903 - val_acc: 0.8865\n",
      "Epoch 54/80\n",
      "15000/15000 [==============================] - 1s 58us/step - loss: 0.1325 - acc: 0.9601 - val_loss: 0.2908 - val_acc: 0.8879\n",
      "Epoch 55/80\n",
      "15000/15000 [==============================] - 1s 56us/step - loss: 0.1294 - acc: 0.9615 - val_loss: 0.2919 - val_acc: 0.8860\n",
      "Epoch 56/80\n",
      "15000/15000 [==============================] - 1s 54us/step - loss: 0.1267 - acc: 0.9618 - val_loss: 0.2933 - val_acc: 0.8866\n",
      "Epoch 57/80\n",
      "15000/15000 [==============================] - 1s 57us/step - loss: 0.1238 - acc: 0.9635 - val_loss: 0.2938 - val_acc: 0.8871\n",
      "Epoch 58/80\n",
      "15000/15000 [==============================] - 1s 56us/step - loss: 0.1212 - acc: 0.9640 - val_loss: 0.2947 - val_acc: 0.8859\n",
      "Epoch 59/80\n",
      "15000/15000 [==============================] - 1s 56us/step - loss: 0.1187 - acc: 0.9657 - val_loss: 0.2959 - val_acc: 0.8882\n",
      "Epoch 60/80\n"
     ]
    },
    {
     "name": "stdout",
     "output_type": "stream",
     "text": [
      "15000/15000 [==============================] - 1s 51us/step - loss: 0.1161 - acc: 0.9671 - val_loss: 0.2972 - val_acc: 0.8862\n",
      "Epoch 61/80\n",
      "15000/15000 [==============================] - 1s 51us/step - loss: 0.1136 - acc: 0.9679 - val_loss: 0.2994 - val_acc: 0.8831\n",
      "Epoch 62/80\n",
      "15000/15000 [==============================] - 1s 55us/step - loss: 0.1114 - acc: 0.9682 - val_loss: 0.3001 - val_acc: 0.8866\n",
      "Epoch 63/80\n",
      "15000/15000 [==============================] - 1s 55us/step - loss: 0.1085 - acc: 0.9695 - val_loss: 0.3009 - val_acc: 0.8854\n",
      "Epoch 64/80\n",
      "15000/15000 [==============================] - 1s 57us/step - loss: 0.1060 - acc: 0.9704 - val_loss: 0.3026 - val_acc: 0.8856\n",
      "Epoch 65/80\n",
      "15000/15000 [==============================] - 1s 52us/step - loss: 0.1041 - acc: 0.9711 - val_loss: 0.3045 - val_acc: 0.8864\n",
      "Epoch 66/80\n",
      "15000/15000 [==============================] - 1s 53us/step - loss: 0.1018 - acc: 0.9715 - val_loss: 0.3058 - val_acc: 0.8846\n",
      "Epoch 67/80\n",
      "15000/15000 [==============================] - 1s 52us/step - loss: 0.0995 - acc: 0.9724 - val_loss: 0.3071 - val_acc: 0.8848\n",
      "Epoch 68/80\n",
      "15000/15000 [==============================] - 1s 52us/step - loss: 0.0974 - acc: 0.9734 - val_loss: 0.3092 - val_acc: 0.8857\n",
      "Epoch 69/80\n",
      "15000/15000 [==============================] - 1s 52us/step - loss: 0.0952 - acc: 0.9745 - val_loss: 0.3114 - val_acc: 0.8843\n",
      "Epoch 70/80\n",
      "15000/15000 [==============================] - 1s 56us/step - loss: 0.0932 - acc: 0.9748 - val_loss: 0.3123 - val_acc: 0.8836\n",
      "Epoch 71/80\n",
      "15000/15000 [==============================] - 1s 57us/step - loss: 0.0913 - acc: 0.9755 - val_loss: 0.3140 - val_acc: 0.8834\n",
      "Epoch 72/80\n",
      "15000/15000 [==============================] - 1s 57us/step - loss: 0.0894 - acc: 0.9765 - val_loss: 0.3174 - val_acc: 0.8819\n",
      "Epoch 73/80\n",
      "15000/15000 [==============================] - 1s 53us/step - loss: 0.0877 - acc: 0.9770 - val_loss: 0.3180 - val_acc: 0.8826\n",
      "Epoch 74/80\n",
      "15000/15000 [==============================] - 1s 56us/step - loss: 0.0858 - acc: 0.9781 - val_loss: 0.3202 - val_acc: 0.8832\n",
      "Epoch 75/80\n",
      "15000/15000 [==============================] - 1s 56us/step - loss: 0.0836 - acc: 0.9790 - val_loss: 0.3221 - val_acc: 0.8822\n",
      "Epoch 76/80\n",
      "15000/15000 [==============================] - 1s 54us/step - loss: 0.0819 - acc: 0.9799 - val_loss: 0.3242 - val_acc: 0.8824\n",
      "Epoch 77/80\n",
      "15000/15000 [==============================] - 1s 54us/step - loss: 0.0799 - acc: 0.9804 - val_loss: 0.3265 - val_acc: 0.8818\n",
      "Epoch 78/80\n",
      "15000/15000 [==============================] - 1s 54us/step - loss: 0.0781 - acc: 0.9805 - val_loss: 0.3285 - val_acc: 0.8826\n",
      "Epoch 79/80\n",
      "15000/15000 [==============================] - 1s 53us/step - loss: 0.0767 - acc: 0.9809 - val_loss: 0.3312 - val_acc: 0.8814\n",
      "Epoch 80/80\n",
      "15000/15000 [==============================] - 1s 54us/step - loss: 0.0749 - acc: 0.9814 - val_loss: 0.3329 - val_acc: 0.8819\n"
     ]
    }
   ],
   "source": [
    "history = model.fit(partial_x_train,\n",
    "                    partial_y_train,\n",
    "                    epochs=60,\n",
    "                    batch_size=512,\n",
    "                    validation_data=(x_val, y_val),\n",
    "                    verbose=1\n",
    "                   )"
   ]
  },
  {
   "cell_type": "markdown",
   "metadata": {},
   "source": [
    "## Evaluate model"
   ]
  },
  {
   "cell_type": "code",
   "execution_count": 16,
   "metadata": {},
   "outputs": [
    {
     "name": "stdout",
     "output_type": "stream",
     "text": [
      "25000/25000 [==============================] - 1s 23us/step\n",
      "[0.3562142825269699, 0.86928]\n"
     ]
    }
   ],
   "source": [
    "results = model.evaluate(test_data, test_labels)\n",
    "print results"
   ]
  },
  {
   "cell_type": "markdown",
   "metadata": {},
   "source": [
    "## Graph of accuracy and loss"
   ]
  },
  {
   "cell_type": "code",
   "execution_count": 17,
   "metadata": {},
   "outputs": [
    {
     "data": {
      "text/plain": [
       "['acc', 'loss', 'val_acc', 'val_loss']"
      ]
     },
     "execution_count": 17,
     "metadata": {},
     "output_type": "execute_result"
    }
   ],
   "source": [
    "history_dict = history.history\n",
    "history_dict.keys()"
   ]
  },
  {
   "cell_type": "code",
   "execution_count": 18,
   "metadata": {},
   "outputs": [
    {
     "data": {
      "image/png": "[encoded data removed]",
      "text/plain": [
       "<Figure size 432x288 with 1 Axes>"
      ]
     },
     "metadata": {},
     "output_type": "display_data"
    }
   ],
   "source": [
    "acc = history.history['acc']\n",
    "val_acc = history.history['val_acc']\n",
    "loss = history.history['loss']\n",
    "val_loss = history.history['val_loss']\n",
    "\n",
    "epochs = range(1, len(acc) + 1)\n",
    "\n",
    "plt.plot(epochs, loss, 'bo', label='Training loss')\n",
    "plt.plot(epochs, val_loss, 'b', label='Validation loss')\n",
    "plt.title('Training and Validation loss')\n",
    "plt.xlabel('Epochs')\n",
    "plt.ylabel('Loss')\n",
    "plt.legend()\n",
    "\n",
    "plt.show()"
   ]
  },
  {
   "cell_type": "code",
   "execution_count": 19,
   "metadata": {},
   "outputs": [
    {
     "data": {
      "image/png": "[encoded data removed]",
      "text/plain": [
       "<Figure size 432x288 with 1 Axes>"
      ]
     },
     "metadata": {},
     "output_type": "display_data"
    }
   ],
   "source": [
    "plt.clf()\n",
    "acc_values = history_dict['acc']\n",
    "val_acc_values = history_dict['val_acc']\n",
    "\n",
    "plt.plot(epochs, acc, 'bo', label='Training acc')\n",
    "plt.plot(epochs, val_acc, 'b', label='Validation acc')\n",
    "plt.title('Training and Validation accuracy')\n",
    "plt.xlabel('Epochs')\n",
    "plt.ylabel('Loss')\n",
    "plt.legend()\n",
    "\n",
    "plt.show()"
   ]
  }
 ],
 "metadata": {
  "kernelspec": {
   "display_name": "Python 2",
   "language": "python",
   "name": "python2"
  },
  "language_info": {
   "codemirror_mode": {
    "name": "ipython",
    "version": 2
   },
   "file_extension": ".py",
   "mimetype": "text/x-python",
   "name": "python",
   "nbconvert_exporter": "python",
   "pygments_lexer": "ipython2",
   "version": "2.7.12"
  }
 },
 "nbformat": 4,
 "nbformat_minor": 2
}
